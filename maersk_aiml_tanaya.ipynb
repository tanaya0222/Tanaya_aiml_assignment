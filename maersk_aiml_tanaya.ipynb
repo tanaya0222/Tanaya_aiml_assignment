{
 "cells": [
  {
   "cell_type": "code",
   "execution_count": 1,
   "metadata": {},
   "outputs": [],
   "source": [
    "# Importing necessary libraries\n",
    "import pandas as pd\n",
    "import numpy as np\n",
    "import matplotlib.pyplot as plt\n",
    "import seaborn as sns\n"
   ]
  },
  {
   "cell_type": "code",
   "execution_count": 2,
   "metadata": {},
   "outputs": [],
   "source": [
    "data = pd.read_csv('train data.csv')"
   ]
  },
  {
   "cell_type": "markdown",
   "metadata": {},
   "source": [
    "## Study Data and Exploratory Data Analysis\n"
   ]
  },
  {
   "cell_type": "code",
   "execution_count": 3,
   "metadata": {},
   "outputs": [
    {
     "name": "stdout",
     "output_type": "stream",
     "text": [
      "First few rows of the dataset:\n",
      "  ProductType Manufacturer Area Code Sourcing Channel Product Size  \\\n",
      "0        NTM3           X1       A28        WHOLESALE        Large   \n",
      "1        NTM2           X1        A9           DIRECT        Large   \n",
      "2        NTM3           X2       A20           DIRECT        Large   \n",
      "3        NTM3           X1       A18        WHOLESALE        Small   \n",
      "4        NTM2           X1       A28           DIRECT        Large   \n",
      "\n",
      "  Product Type Month of Sourcing  Sourcing Cost  \n",
      "0       Powder            May-21          10.16  \n",
      "1       Powder            Oct-20         134.28  \n",
      "2       Powder            Dec-20          12.46  \n",
      "3       Powder            Feb-21         107.22  \n",
      "4       Liquid            Nov-20         197.76  \n"
     ]
    }
   ],
   "source": [
    "print(\"First few rows of the dataset:\")\n",
    "print(data.head())"
   ]
  },
  {
   "cell_type": "code",
   "execution_count": 4,
   "metadata": {},
   "outputs": [
    {
     "name": "stdout",
     "output_type": "stream",
     "text": [
      "Last few rows of the dataset:\n",
      "       ProductType Manufacturer Area Code Sourcing Channel Product Size  \\\n",
      "550171        NTM2           X1        A5           DIRECT        Large   \n",
      "550172        NTM3           X1       A14           DIRECT        Large   \n",
      "550173        NTM2           X1        A5           DIRECT        Small   \n",
      "550174        NTM2           X1        A7           DIRECT        Small   \n",
      "550175        NTM1           X1        A3           DIRECT        Small   \n",
      "\n",
      "       Product Type Month of Sourcing  Sourcing Cost  \n",
      "550171       Powder            Jul-20         136.47  \n",
      "550172       Liquid            Oct-20          72.56  \n",
      "550173       Powder            Mar-21         147.64  \n",
      "550174       Powder            Feb-21         150.04  \n",
      "550175       Powder            Nov-20         139.42  \n"
     ]
    }
   ],
   "source": [
    "print(\"Last few rows of the dataset:\")\n",
    "print(data.tail())"
   ]
  },
  {
   "cell_type": "code",
   "execution_count": 5,
   "metadata": {},
   "outputs": [
    {
     "name": "stdout",
     "output_type": "stream",
     "text": [
      "\n",
      "Information about the dataset:\n",
      "<class 'pandas.core.frame.DataFrame'>\n",
      "RangeIndex: 550176 entries, 0 to 550175\n",
      "Data columns (total 8 columns):\n",
      " #   Column             Non-Null Count   Dtype  \n",
      "---  ------             --------------   -----  \n",
      " 0   ProductType        550176 non-null  object \n",
      " 1   Manufacturer       550176 non-null  object \n",
      " 2   Area Code          550176 non-null  object \n",
      " 3   Sourcing Channel   550176 non-null  object \n",
      " 4   Product Size       550176 non-null  object \n",
      " 5   Product Type       550176 non-null  object \n",
      " 6   Month of Sourcing  550176 non-null  object \n",
      " 7   Sourcing Cost      550176 non-null  float64\n",
      "dtypes: float64(1), object(7)\n",
      "memory usage: 33.6+ MB\n",
      "None\n"
     ]
    }
   ],
   "source": [
    "print(\"\\nInformation about the dataset:\")\n",
    "print(data.info())"
   ]
  },
  {
   "cell_type": "code",
   "execution_count": 6,
   "metadata": {},
   "outputs": [
    {
     "name": "stdout",
     "output_type": "stream",
     "text": [
      "\n",
      "Summary statistics of numerical columns:\n",
      "       Sourcing Cost\n",
      "count  550176.000000\n",
      "mean      108.817286\n",
      "std       104.390093\n",
      "min      -196.070000\n",
      "25%        57.000000\n",
      "50%       132.000000\n",
      "75%       146.150000\n",
      "max     32632.500000\n"
     ]
    }
   ],
   "source": [
    "print(\"\\nSummary statistics of numerical columns:\")\n",
    "print(data.describe())"
   ]
  },
  {
   "cell_type": "code",
   "execution_count": 7,
   "metadata": {},
   "outputs": [
    {
     "data": {
      "text/html": [
       "<div>\n",
       "<style scoped>\n",
       "    .dataframe tbody tr th:only-of-type {\n",
       "        vertical-align: middle;\n",
       "    }\n",
       "\n",
       "    .dataframe tbody tr th {\n",
       "        vertical-align: top;\n",
       "    }\n",
       "\n",
       "    .dataframe thead th {\n",
       "        text-align: right;\n",
       "    }\n",
       "</style>\n",
       "<table border=\"1\" class=\"dataframe\">\n",
       "  <thead>\n",
       "    <tr style=\"text-align: right;\">\n",
       "      <th></th>\n",
       "      <th>Sourcing Cost</th>\n",
       "    </tr>\n",
       "  </thead>\n",
       "  <tbody>\n",
       "    <tr>\n",
       "      <th>count</th>\n",
       "      <td>534400.000000</td>\n",
       "    </tr>\n",
       "    <tr>\n",
       "      <th>mean</th>\n",
       "      <td>112.039835</td>\n",
       "    </tr>\n",
       "    <tr>\n",
       "      <th>std</th>\n",
       "      <td>104.192220</td>\n",
       "    </tr>\n",
       "    <tr>\n",
       "      <th>min</th>\n",
       "      <td>0.010000</td>\n",
       "    </tr>\n",
       "    <tr>\n",
       "      <th>25%</th>\n",
       "      <td>64.230000</td>\n",
       "    </tr>\n",
       "    <tr>\n",
       "      <th>50%</th>\n",
       "      <td>133.300000</td>\n",
       "    </tr>\n",
       "    <tr>\n",
       "      <th>75%</th>\n",
       "      <td>146.700000</td>\n",
       "    </tr>\n",
       "    <tr>\n",
       "      <th>max</th>\n",
       "      <td>32632.500000</td>\n",
       "    </tr>\n",
       "  </tbody>\n",
       "</table>\n",
       "</div>"
      ],
      "text/plain": [
       "       Sourcing Cost\n",
       "count  534400.000000\n",
       "mean      112.039835\n",
       "std       104.192220\n",
       "min         0.010000\n",
       "25%        64.230000\n",
       "50%       133.300000\n",
       "75%       146.700000\n",
       "max     32632.500000"
      ]
     },
     "execution_count": 7,
     "metadata": {},
     "output_type": "execute_result"
    }
   ],
   "source": [
    "#Since there are negative values in sourcing cost. remove them.\n",
    "\n",
    "cleaned_data = data[data['Sourcing Cost'] > 0]\n",
    "cleaned_data.describe()"
   ]
  },
  {
   "cell_type": "code",
   "execution_count": 8,
   "metadata": {},
   "outputs": [
    {
     "name": "stdout",
     "output_type": "stream",
     "text": [
      "\n",
      "Missing values in the dataset:\n",
      "ProductType          0\n",
      "Manufacturer         0\n",
      "Area Code            0\n",
      "Sourcing Channel     0\n",
      "Product Size         0\n",
      "Product Type         0\n",
      "Month of Sourcing    0\n",
      "Sourcing Cost        0\n",
      "dtype: int64\n"
     ]
    }
   ],
   "source": [
    "print(\"\\nMissing values in the dataset:\")\n",
    "print(cleaned_data.isnull().sum())"
   ]
  },
  {
   "cell_type": "markdown",
   "metadata": {},
   "source": [
    "## Data Visualization"
   ]
  },
  {
   "cell_type": "code",
   "execution_count": 9,
   "metadata": {},
   "outputs": [
    {
     "data": {
      "image/png": "[encoded data removed]",
      "text/plain": [
       "<Figure size 576x432 with 1 Axes>"
      ]
     },
     "metadata": {
      "needs_background": "light"
     },
     "output_type": "display_data"
    }
   ],
   "source": [
    "# Visualizing the distribution of the 'Sourcing Cost' variable\n",
    "plt.figure(figsize=(8, 6))\n",
    "sns.histplot(cleaned_data['Sourcing Cost'], bins=30, kde=True)\n",
    "plt.title('Distribution of Sourcing Cost')\n",
    "plt.xlabel('Sourcing Cost')\n",
    "plt.ylabel('Frequency')\n",
    "# plt.xlim(0, 4000)  # Adjust x-axis limits based on the range of values\n",
    "plt.show()\n"
   ]
  },
  {
   "cell_type": "code",
   "execution_count": 10,
   "metadata": {},
   "outputs": [
    {
     "data": {
      "image/png": "[encoded data removed]",
      "text/plain": [
       "<Figure size 720x432 with 1 Axes>"
      ]
     },
     "metadata": {
      "needs_background": "light"
     },
     "output_type": "display_data"
    }
   ],
   "source": [
    "# Create box plots for each numerical variable\n",
    "plt.figure(figsize=(10, 6))\n",
    "sns.boxplot(data=cleaned_data)\n",
    "plt.title('Box Plot of Numerical Variables')\n",
    "plt.xlabel('Variable')\n",
    "plt.ylabel('Value')\n",
    "plt.xticks(rotation=45)\n",
    "plt.show()\n"
   ]
  },
  {
   "cell_type": "markdown",
   "metadata": {},
   "source": [
    "## Handling Outliers"
   ]
  },
  {
   "cell_type": "code",
   "execution_count": 11,
   "metadata": {},
   "outputs": [],
   "source": [
    "threshold_99th = cleaned_data['Sourcing Cost'].quantile(0.99)\n",
    "\n",
    "# Set the threshold\n",
    "threshold = threshold_99th\n",
    "\n",
    "# Identify observations exceeding the threshold\n",
    "cleaned_data_df = cleaned_data[cleaned_data['Sourcing Cost'] < threshold]"
   ]
  },
  {
   "cell_type": "code",
   "execution_count": 12,
   "metadata": {},
   "outputs": [],
   "source": [
    "threshold_5th = cleaned_data_df['Sourcing Cost'].quantile(0.05)\n",
    "cleaned_data_df = cleaned_data_df[cleaned_data_df['Sourcing Cost'] > threshold_5th]"
   ]
  },
  {
   "cell_type": "code",
   "execution_count": 13,
   "metadata": {},
   "outputs": [
    {
     "data": {
      "image/png": "[encoded data removed]",
      "text/plain": [
       "<Figure size 720x432 with 1 Axes>"
      ]
     },
     "metadata": {
      "needs_background": "light"
     },
     "output_type": "display_data"
    }
   ],
   "source": [
    "# Create box plots for each numerical variable\n",
    "plt.figure(figsize=(10, 6))\n",
    "sns.boxplot(data=cleaned_data_df)\n",
    "plt.title('Box Plot of Numerical Variables')\n",
    "plt.xlabel('Variable')\n",
    "plt.ylabel('Value')\n",
    "plt.xticks(rotation=45)\n",
    "plt.show()"
   ]
  },
  {
   "cell_type": "code",
   "execution_count": 14,
   "metadata": {},
   "outputs": [
    {
     "data": {
      "text/html": [
       "<div>\n",
       "<style scoped>\n",
       "    .dataframe tbody tr th:only-of-type {\n",
       "        vertical-align: middle;\n",
       "    }\n",
       "\n",
       "    .dataframe tbody tr th {\n",
       "        vertical-align: top;\n",
       "    }\n",
       "\n",
       "    .dataframe thead th {\n",
       "        text-align: right;\n",
       "    }\n",
       "</style>\n",
       "<table border=\"1\" class=\"dataframe\">\n",
       "  <thead>\n",
       "    <tr style=\"text-align: right;\">\n",
       "      <th></th>\n",
       "      <th>Sourcing Cost</th>\n",
       "    </tr>\n",
       "  </thead>\n",
       "  <tbody>\n",
       "    <tr>\n",
       "      <th>count</th>\n",
       "      <td>502574.000000</td>\n",
       "    </tr>\n",
       "    <tr>\n",
       "      <th>mean</th>\n",
       "      <td>114.151816</td>\n",
       "    </tr>\n",
       "    <tr>\n",
       "      <th>std</th>\n",
       "      <td>48.492066</td>\n",
       "    </tr>\n",
       "    <tr>\n",
       "      <th>min</th>\n",
       "      <td>14.960000</td>\n",
       "    </tr>\n",
       "    <tr>\n",
       "      <th>25%</th>\n",
       "      <td>70.000000</td>\n",
       "    </tr>\n",
       "    <tr>\n",
       "      <th>50%</th>\n",
       "      <td>134.670000</td>\n",
       "    </tr>\n",
       "    <tr>\n",
       "      <th>75%</th>\n",
       "      <td>146.970000</td>\n",
       "    </tr>\n",
       "    <tr>\n",
       "      <th>max</th>\n",
       "      <td>226.080000</td>\n",
       "    </tr>\n",
       "  </tbody>\n",
       "</table>\n",
       "</div>"
      ],
      "text/plain": [
       "       Sourcing Cost\n",
       "count  502574.000000\n",
       "mean      114.151816\n",
       "std        48.492066\n",
       "min        14.960000\n",
       "25%        70.000000\n",
       "50%       134.670000\n",
       "75%       146.970000\n",
       "max       226.080000"
      ]
     },
     "execution_count": 14,
     "metadata": {},
     "output_type": "execute_result"
    }
   ],
   "source": [
    "cleaned_data_df.describe()"
   ]
  },
  {
   "cell_type": "markdown",
   "metadata": {},
   "source": [
    "## Data Visualization"
   ]
  },
  {
   "cell_type": "code",
   "execution_count": 15,
   "metadata": {},
   "outputs": [],
   "source": [
    "# # Visualizing the correlation matrix\n",
    "# plt.figure(figsize=(10, 8))\n",
    "# sns.heatmap(cleaned_data_df.corr(), annot=True, cmap='coolwarm', fmt=\".2f\")\n",
    "# plt.title('Correlation Matrix')\n",
    "# plt.show()"
   ]
  },
  {
   "cell_type": "code",
   "execution_count": 16,
   "metadata": {},
   "outputs": [
    {
     "data": {
      "image/png": "[encoded data removed]",
      "text/plain": [
       "<Figure size 720x576 with 1 Axes>"
      ]
     },
     "metadata": {
      "needs_background": "light"
     },
     "output_type": "display_data"
    }
   ],
   "source": [
    "# Visualizing categorical variables\n",
    "plt.figure(figsize=(10, 8))\n",
    "sns.countplot(x='Sourcing Channel', data=cleaned_data_df)\n",
    "plt.title('Count of Sourcing Channel')\n",
    "plt.xlabel('Sourcing Channel')\n",
    "plt.ylabel('Count')\n",
    "plt.show()"
   ]
  },
  {
   "cell_type": "code",
   "execution_count": 17,
   "metadata": {},
   "outputs": [
    {
     "data": {
      "image/png": "[encoded data removed]",
      "text/plain": [
       "<Figure size 720x576 with 1 Axes>"
      ]
     },
     "metadata": {
      "needs_background": "light"
     },
     "output_type": "display_data"
    }
   ],
   "source": [
    "plt.figure(figsize=(10, 8))\n",
    "sns.countplot(x='Product Size', data=cleaned_data_df)\n",
    "plt.title('Count of Product Size')\n",
    "plt.xlabel('Product Size')\n",
    "plt.ylabel('Count')\n",
    "plt.show()"
   ]
  },
  {
   "cell_type": "code",
   "execution_count": 18,
   "metadata": {},
   "outputs": [
    {
     "data": {
      "image/png": "[encoded data removed]",
      "text/plain": [
       "<Figure size 720x576 with 1 Axes>"
      ]
     },
     "metadata": {
      "needs_background": "light"
     },
     "output_type": "display_data"
    }
   ],
   "source": [
    "plt.figure(figsize=(10, 8))\n",
    "sns.countplot(x='Product Type', data=cleaned_data_df)\n",
    "plt.title('Count of Product Type')\n",
    "plt.xlabel('Product Type')\n",
    "plt.ylabel('Count')\n",
    "plt.show()\n"
   ]
  },
  {
   "cell_type": "code",
   "execution_count": 19,
   "metadata": {},
   "outputs": [
    {
     "data": {
      "image/png": "[encoded data removed]",
      "text/plain": [
       "<Figure size 720x576 with 1 Axes>"
      ]
     },
     "metadata": {
      "needs_background": "light"
     },
     "output_type": "display_data"
    }
   ],
   "source": [
    "plt.figure(figsize=(10, 8))\n",
    "sns.boxplot(x='Sourcing Channel', y='Sourcing Cost', data=cleaned_data_df)\n",
    "plt.title('Sourcing Cost by Sourcing Channel')\n",
    "plt.xlabel('Sourcing Channel')\n",
    "plt.ylabel('Sourcing Cost')\n",
    "plt.show()\n",
    "\n"
   ]
  },
  {
   "cell_type": "code",
   "execution_count": 20,
   "metadata": {},
   "outputs": [
    {
     "data": {
      "image/png": "[encoded data removed]",
      "text/plain": [
       "<Figure size 720x576 with 1 Axes>"
      ]
     },
     "metadata": {
      "needs_background": "light"
     },
     "output_type": "display_data"
    }
   ],
   "source": [
    "plt.figure(figsize=(10, 8))\n",
    "sns.boxplot(x='Product Size', y='Sourcing Cost', data=cleaned_data_df)\n",
    "plt.title('Sourcing Cost by Product Size')\n",
    "plt.xlabel('Product Size')\n",
    "plt.ylabel('Sourcing Cost')\n",
    "plt.show()\n",
    "\n"
   ]
  },
  {
   "cell_type": "code",
   "execution_count": 21,
   "metadata": {},
   "outputs": [
    {
     "data": {
      "image/png": "[encoded data removed]",
      "text/plain": [
       "<Figure size 720x576 with 1 Axes>"
      ]
     },
     "metadata": {
      "needs_background": "light"
     },
     "output_type": "display_data"
    }
   ],
   "source": [
    "plt.figure(figsize=(10, 8))\n",
    "sns.boxplot(x='Product Type', y='Sourcing Cost', data=cleaned_data_df)\n",
    "plt.title('Sourcing Cost by Product Type')\n",
    "plt.xlabel('Product Type')\n",
    "plt.ylabel('Sourcing Cost')\n",
    "plt.show()"
   ]
  },
  {
   "cell_type": "code",
   "execution_count": null,
   "metadata": {},
   "outputs": [],
   "source": []
  },
  {
   "cell_type": "code",
   "execution_count": 22,
   "metadata": {},
   "outputs": [],
   "source": [
    "# from sklearn.ensemble import RandomForestRegressor\n",
    "# X = data.drop(['Sourcing Cost'], axis=1)\n",
    "# y = data['Sourcing Cost']\n",
    "\n",
    "# # Creating and fitting the Random Forest model\n",
    "# model = RandomForestRegressor(random_state=42)\n",
    "# model.fit(X, y)\n",
    "\n",
    "# # Getting feature importances\n",
    "# importances = model.feature_importances_\n",
    "\n",
    "# # Sorting feature importances in descending order\n",
    "# indices = np.argsort(importances)[::-1]\n",
    "\n",
    "# # Visualizing feature importances\n",
    "# plt.figure(figsize=(10, 6))\n",
    "# plt.title(\"Feature Importances\")\n",
    "# plt.bar(range(X.shape[1]), importances[indices], align=\"center\")\n",
    "# plt.xticks(range(X.shape[1]), X.columns[indices], rotation=90)\n",
    "# plt.xlim([-1, X.shape[1]])\n",
    "# plt.ylabel(\"Importance\")\n",
    "# plt.xlabel(\"Feature\")\n",
    "# plt.tight_layout()\n",
    "# plt.show()"
   ]
  },
  {
   "cell_type": "code",
   "execution_count": 23,
   "metadata": {},
   "outputs": [],
   "source": [
    "data_encoded = pd.get_dummies(cleaned_data_df, columns=['ProductType', 'Manufacturer', 'Sourcing Channel', 'Product Size', 'Product Type'])"
   ]
  },
  {
   "cell_type": "code",
   "execution_count": null,
   "metadata": {},
   "outputs": [],
   "source": []
  },
  {
   "cell_type": "code",
   "execution_count": 24,
   "metadata": {},
   "outputs": [
    {
     "name": "stderr",
     "output_type": "stream",
     "text": [
      "C:\\Users\\TANAYA\\AppData\\Local\\Temp/ipykernel_4404/3945436753.py:2: FutureWarning: The default value of numeric_only in DataFrame.corr is deprecated. In a future version, it will default to False. Select only valid columns or specify the value of numeric_only to silence this warning.\n",
      "  correlation_matrix = data_encoded.corr()\n"
     ]
    },
    {
     "data": {
      "image/png": "[encoded data removed]",
      "text/plain": [
       "<Figure size 720x432 with 1 Axes>"
      ]
     },
     "metadata": {
      "needs_background": "light"
     },
     "output_type": "display_data"
    }
   ],
   "source": [
    "\n",
    "# Calculating correlation matrix with the target variable\n",
    "correlation_matrix = data_encoded.corr()\n",
    "\n",
    "# Sorting correlation values with the target variable\n",
    "correlation_with_target = correlation_matrix['Sourcing Cost'].abs().sort_values(ascending=False)\n",
    "\n",
    "# Visualizing feature correlation with the target variable\n",
    "plt.figure(figsize=(10, 6))\n",
    "sns.barplot(x=correlation_with_target.values, y=correlation_with_target.index)\n",
    "plt.title(\"Feature Correlation with Sourcing Cost\")\n",
    "plt.xlabel(\"Absolute Correlation\")\n",
    "plt.ylabel(\"Feature\")\n",
    "plt.show()"
   ]
  },
  {
   "cell_type": "code",
   "execution_count": 25,
   "metadata": {},
   "outputs": [
    {
     "data": {
      "text/html": [
       "<div>\n",
       "<style scoped>\n",
       "    .dataframe tbody tr th:only-of-type {\n",
       "        vertical-align: middle;\n",
       "    }\n",
       "\n",
       "    .dataframe tbody tr th {\n",
       "        vertical-align: top;\n",
       "    }\n",
       "\n",
       "    .dataframe thead th {\n",
       "        text-align: right;\n",
       "    }\n",
       "</style>\n",
       "<table border=\"1\" class=\"dataframe\">\n",
       "  <thead>\n",
       "    <tr style=\"text-align: right;\">\n",
       "      <th></th>\n",
       "      <th>ProductType</th>\n",
       "      <th>Manufacturer</th>\n",
       "      <th>Area Code</th>\n",
       "      <th>Sourcing Channel</th>\n",
       "      <th>Product Size</th>\n",
       "      <th>Product Type</th>\n",
       "      <th>Month of Sourcing</th>\n",
       "      <th>Sourcing Cost</th>\n",
       "    </tr>\n",
       "  </thead>\n",
       "  <tbody>\n",
       "    <tr>\n",
       "      <th>1</th>\n",
       "      <td>NTM2</td>\n",
       "      <td>X1</td>\n",
       "      <td>A9</td>\n",
       "      <td>DIRECT</td>\n",
       "      <td>Large</td>\n",
       "      <td>Powder</td>\n",
       "      <td>Oct-20</td>\n",
       "      <td>134.28</td>\n",
       "    </tr>\n",
       "    <tr>\n",
       "      <th>3</th>\n",
       "      <td>NTM3</td>\n",
       "      <td>X1</td>\n",
       "      <td>A18</td>\n",
       "      <td>WHOLESALE</td>\n",
       "      <td>Small</td>\n",
       "      <td>Powder</td>\n",
       "      <td>Feb-21</td>\n",
       "      <td>107.22</td>\n",
       "    </tr>\n",
       "    <tr>\n",
       "      <th>4</th>\n",
       "      <td>NTM2</td>\n",
       "      <td>X1</td>\n",
       "      <td>A28</td>\n",
       "      <td>DIRECT</td>\n",
       "      <td>Large</td>\n",
       "      <td>Liquid</td>\n",
       "      <td>Nov-20</td>\n",
       "      <td>197.76</td>\n",
       "    </tr>\n",
       "    <tr>\n",
       "      <th>5</th>\n",
       "      <td>NTM1</td>\n",
       "      <td>X1</td>\n",
       "      <td>A10</td>\n",
       "      <td>DIRECT</td>\n",
       "      <td>Large</td>\n",
       "      <td>Powder</td>\n",
       "      <td>Sep-20</td>\n",
       "      <td>137.93</td>\n",
       "    </tr>\n",
       "    <tr>\n",
       "      <th>6</th>\n",
       "      <td>NTM2</td>\n",
       "      <td>X1</td>\n",
       "      <td>A19</td>\n",
       "      <td>DIRECT</td>\n",
       "      <td>Large</td>\n",
       "      <td>Powder</td>\n",
       "      <td>Sep-20</td>\n",
       "      <td>105.59</td>\n",
       "    </tr>\n",
       "    <tr>\n",
       "      <th>...</th>\n",
       "      <td>...</td>\n",
       "      <td>...</td>\n",
       "      <td>...</td>\n",
       "      <td>...</td>\n",
       "      <td>...</td>\n",
       "      <td>...</td>\n",
       "      <td>...</td>\n",
       "      <td>...</td>\n",
       "    </tr>\n",
       "    <tr>\n",
       "      <th>550171</th>\n",
       "      <td>NTM2</td>\n",
       "      <td>X1</td>\n",
       "      <td>A5</td>\n",
       "      <td>DIRECT</td>\n",
       "      <td>Large</td>\n",
       "      <td>Powder</td>\n",
       "      <td>Jul-20</td>\n",
       "      <td>136.47</td>\n",
       "    </tr>\n",
       "    <tr>\n",
       "      <th>550172</th>\n",
       "      <td>NTM3</td>\n",
       "      <td>X1</td>\n",
       "      <td>A14</td>\n",
       "      <td>DIRECT</td>\n",
       "      <td>Large</td>\n",
       "      <td>Liquid</td>\n",
       "      <td>Oct-20</td>\n",
       "      <td>72.56</td>\n",
       "    </tr>\n",
       "    <tr>\n",
       "      <th>550173</th>\n",
       "      <td>NTM2</td>\n",
       "      <td>X1</td>\n",
       "      <td>A5</td>\n",
       "      <td>DIRECT</td>\n",
       "      <td>Small</td>\n",
       "      <td>Powder</td>\n",
       "      <td>Mar-21</td>\n",
       "      <td>147.64</td>\n",
       "    </tr>\n",
       "    <tr>\n",
       "      <th>550174</th>\n",
       "      <td>NTM2</td>\n",
       "      <td>X1</td>\n",
       "      <td>A7</td>\n",
       "      <td>DIRECT</td>\n",
       "      <td>Small</td>\n",
       "      <td>Powder</td>\n",
       "      <td>Feb-21</td>\n",
       "      <td>150.04</td>\n",
       "    </tr>\n",
       "    <tr>\n",
       "      <th>550175</th>\n",
       "      <td>NTM1</td>\n",
       "      <td>X1</td>\n",
       "      <td>A3</td>\n",
       "      <td>DIRECT</td>\n",
       "      <td>Small</td>\n",
       "      <td>Powder</td>\n",
       "      <td>Nov-20</td>\n",
       "      <td>139.42</td>\n",
       "    </tr>\n",
       "  </tbody>\n",
       "</table>\n",
       "<p>502574 rows × 8 columns</p>\n",
       "</div>"
      ],
      "text/plain": [
       "       ProductType Manufacturer Area Code Sourcing Channel Product Size  \\\n",
       "1             NTM2           X1        A9           DIRECT        Large   \n",
       "3             NTM3           X1       A18        WHOLESALE        Small   \n",
       "4             NTM2           X1       A28           DIRECT        Large   \n",
       "5             NTM1           X1       A10           DIRECT        Large   \n",
       "6             NTM2           X1       A19           DIRECT        Large   \n",
       "...            ...          ...       ...              ...          ...   \n",
       "550171        NTM2           X1        A5           DIRECT        Large   \n",
       "550172        NTM3           X1       A14           DIRECT        Large   \n",
       "550173        NTM2           X1        A5           DIRECT        Small   \n",
       "550174        NTM2           X1        A7           DIRECT        Small   \n",
       "550175        NTM1           X1        A3           DIRECT        Small   \n",
       "\n",
       "       Product Type Month of Sourcing  Sourcing Cost  \n",
       "1            Powder            Oct-20         134.28  \n",
       "3            Powder            Feb-21         107.22  \n",
       "4            Liquid            Nov-20         197.76  \n",
       "5            Powder            Sep-20         137.93  \n",
       "6            Powder            Sep-20         105.59  \n",
       "...             ...               ...            ...  \n",
       "550171       Powder            Jul-20         136.47  \n",
       "550172       Liquid            Oct-20          72.56  \n",
       "550173       Powder            Mar-21         147.64  \n",
       "550174       Powder            Feb-21         150.04  \n",
       "550175       Powder            Nov-20         139.42  \n",
       "\n",
       "[502574 rows x 8 columns]"
      ]
     },
     "execution_count": 25,
     "metadata": {},
     "output_type": "execute_result"
    }
   ],
   "source": [
    "cleaned_data_df"
   ]
  },
  {
   "cell_type": "code",
   "execution_count": 26,
   "metadata": {},
   "outputs": [
    {
     "data": {
      "text/html": [
       "<div>\n",
       "<style scoped>\n",
       "    .dataframe tbody tr th:only-of-type {\n",
       "        vertical-align: middle;\n",
       "    }\n",
       "\n",
       "    .dataframe tbody tr th {\n",
       "        vertical-align: top;\n",
       "    }\n",
       "\n",
       "    .dataframe thead th {\n",
       "        text-align: right;\n",
       "    }\n",
       "</style>\n",
       "<table border=\"1\" class=\"dataframe\">\n",
       "  <thead>\n",
       "    <tr style=\"text-align: right;\">\n",
       "      <th></th>\n",
       "      <th>Area Code</th>\n",
       "      <th>Month of Sourcing</th>\n",
       "      <th>Sourcing Cost</th>\n",
       "      <th>ProductType_NTM1</th>\n",
       "      <th>ProductType_NTM2</th>\n",
       "      <th>ProductType_NTM3</th>\n",
       "      <th>Manufacturer_X1</th>\n",
       "      <th>Manufacturer_X2</th>\n",
       "      <th>Manufacturer_X3</th>\n",
       "      <th>Sourcing Channel_DIRECT</th>\n",
       "      <th>Sourcing Channel_ECOM</th>\n",
       "      <th>Sourcing Channel_RETAIL</th>\n",
       "      <th>Sourcing Channel_WHOLESALE</th>\n",
       "      <th>Product Size_ExtraLarge</th>\n",
       "      <th>Product Size_Large</th>\n",
       "      <th>Product Size_Small</th>\n",
       "      <th>Product Type_Liquid</th>\n",
       "      <th>Product Type_Powder</th>\n",
       "    </tr>\n",
       "  </thead>\n",
       "  <tbody>\n",
       "    <tr>\n",
       "      <th>1</th>\n",
       "      <td>A9</td>\n",
       "      <td>Oct-20</td>\n",
       "      <td>134.28</td>\n",
       "      <td>0</td>\n",
       "      <td>1</td>\n",
       "      <td>0</td>\n",
       "      <td>1</td>\n",
       "      <td>0</td>\n",
       "      <td>0</td>\n",
       "      <td>1</td>\n",
       "      <td>0</td>\n",
       "      <td>0</td>\n",
       "      <td>0</td>\n",
       "      <td>0</td>\n",
       "      <td>1</td>\n",
       "      <td>0</td>\n",
       "      <td>0</td>\n",
       "      <td>1</td>\n",
       "    </tr>\n",
       "    <tr>\n",
       "      <th>3</th>\n",
       "      <td>A18</td>\n",
       "      <td>Feb-21</td>\n",
       "      <td>107.22</td>\n",
       "      <td>0</td>\n",
       "      <td>0</td>\n",
       "      <td>1</td>\n",
       "      <td>1</td>\n",
       "      <td>0</td>\n",
       "      <td>0</td>\n",
       "      <td>0</td>\n",
       "      <td>0</td>\n",
       "      <td>0</td>\n",
       "      <td>1</td>\n",
       "      <td>0</td>\n",
       "      <td>0</td>\n",
       "      <td>1</td>\n",
       "      <td>0</td>\n",
       "      <td>1</td>\n",
       "    </tr>\n",
       "    <tr>\n",
       "      <th>4</th>\n",
       "      <td>A28</td>\n",
       "      <td>Nov-20</td>\n",
       "      <td>197.76</td>\n",
       "      <td>0</td>\n",
       "      <td>1</td>\n",
       "      <td>0</td>\n",
       "      <td>1</td>\n",
       "      <td>0</td>\n",
       "      <td>0</td>\n",
       "      <td>1</td>\n",
       "      <td>0</td>\n",
       "      <td>0</td>\n",
       "      <td>0</td>\n",
       "      <td>0</td>\n",
       "      <td>1</td>\n",
       "      <td>0</td>\n",
       "      <td>1</td>\n",
       "      <td>0</td>\n",
       "    </tr>\n",
       "    <tr>\n",
       "      <th>5</th>\n",
       "      <td>A10</td>\n",
       "      <td>Sep-20</td>\n",
       "      <td>137.93</td>\n",
       "      <td>1</td>\n",
       "      <td>0</td>\n",
       "      <td>0</td>\n",
       "      <td>1</td>\n",
       "      <td>0</td>\n",
       "      <td>0</td>\n",
       "      <td>1</td>\n",
       "      <td>0</td>\n",
       "      <td>0</td>\n",
       "      <td>0</td>\n",
       "      <td>0</td>\n",
       "      <td>1</td>\n",
       "      <td>0</td>\n",
       "      <td>0</td>\n",
       "      <td>1</td>\n",
       "    </tr>\n",
       "    <tr>\n",
       "      <th>6</th>\n",
       "      <td>A19</td>\n",
       "      <td>Sep-20</td>\n",
       "      <td>105.59</td>\n",
       "      <td>0</td>\n",
       "      <td>1</td>\n",
       "      <td>0</td>\n",
       "      <td>1</td>\n",
       "      <td>0</td>\n",
       "      <td>0</td>\n",
       "      <td>1</td>\n",
       "      <td>0</td>\n",
       "      <td>0</td>\n",
       "      <td>0</td>\n",
       "      <td>0</td>\n",
       "      <td>1</td>\n",
       "      <td>0</td>\n",
       "      <td>0</td>\n",
       "      <td>1</td>\n",
       "    </tr>\n",
       "    <tr>\n",
       "      <th>...</th>\n",
       "      <td>...</td>\n",
       "      <td>...</td>\n",
       "      <td>...</td>\n",
       "      <td>...</td>\n",
       "      <td>...</td>\n",
       "      <td>...</td>\n",
       "      <td>...</td>\n",
       "      <td>...</td>\n",
       "      <td>...</td>\n",
       "      <td>...</td>\n",
       "      <td>...</td>\n",
       "      <td>...</td>\n",
       "      <td>...</td>\n",
       "      <td>...</td>\n",
       "      <td>...</td>\n",
       "      <td>...</td>\n",
       "      <td>...</td>\n",
       "      <td>...</td>\n",
       "    </tr>\n",
       "    <tr>\n",
       "      <th>550171</th>\n",
       "      <td>A5</td>\n",
       "      <td>Jul-20</td>\n",
       "      <td>136.47</td>\n",
       "      <td>0</td>\n",
       "      <td>1</td>\n",
       "      <td>0</td>\n",
       "      <td>1</td>\n",
       "      <td>0</td>\n",
       "      <td>0</td>\n",
       "      <td>1</td>\n",
       "      <td>0</td>\n",
       "      <td>0</td>\n",
       "      <td>0</td>\n",
       "      <td>0</td>\n",
       "      <td>1</td>\n",
       "      <td>0</td>\n",
       "      <td>0</td>\n",
       "      <td>1</td>\n",
       "    </tr>\n",
       "    <tr>\n",
       "      <th>550172</th>\n",
       "      <td>A14</td>\n",
       "      <td>Oct-20</td>\n",
       "      <td>72.56</td>\n",
       "      <td>0</td>\n",
       "      <td>0</td>\n",
       "      <td>1</td>\n",
       "      <td>1</td>\n",
       "      <td>0</td>\n",
       "      <td>0</td>\n",
       "      <td>1</td>\n",
       "      <td>0</td>\n",
       "      <td>0</td>\n",
       "      <td>0</td>\n",
       "      <td>0</td>\n",
       "      <td>1</td>\n",
       "      <td>0</td>\n",
       "      <td>1</td>\n",
       "      <td>0</td>\n",
       "    </tr>\n",
       "    <tr>\n",
       "      <th>550173</th>\n",
       "      <td>A5</td>\n",
       "      <td>Mar-21</td>\n",
       "      <td>147.64</td>\n",
       "      <td>0</td>\n",
       "      <td>1</td>\n",
       "      <td>0</td>\n",
       "      <td>1</td>\n",
       "      <td>0</td>\n",
       "      <td>0</td>\n",
       "      <td>1</td>\n",
       "      <td>0</td>\n",
       "      <td>0</td>\n",
       "      <td>0</td>\n",
       "      <td>0</td>\n",
       "      <td>0</td>\n",
       "      <td>1</td>\n",
       "      <td>0</td>\n",
       "      <td>1</td>\n",
       "    </tr>\n",
       "    <tr>\n",
       "      <th>550174</th>\n",
       "      <td>A7</td>\n",
       "      <td>Feb-21</td>\n",
       "      <td>150.04</td>\n",
       "      <td>0</td>\n",
       "      <td>1</td>\n",
       "      <td>0</td>\n",
       "      <td>1</td>\n",
       "      <td>0</td>\n",
       "      <td>0</td>\n",
       "      <td>1</td>\n",
       "      <td>0</td>\n",
       "      <td>0</td>\n",
       "      <td>0</td>\n",
       "      <td>0</td>\n",
       "      <td>0</td>\n",
       "      <td>1</td>\n",
       "      <td>0</td>\n",
       "      <td>1</td>\n",
       "    </tr>\n",
       "    <tr>\n",
       "      <th>550175</th>\n",
       "      <td>A3</td>\n",
       "      <td>Nov-20</td>\n",
       "      <td>139.42</td>\n",
       "      <td>1</td>\n",
       "      <td>0</td>\n",
       "      <td>0</td>\n",
       "      <td>1</td>\n",
       "      <td>0</td>\n",
       "      <td>0</td>\n",
       "      <td>1</td>\n",
       "      <td>0</td>\n",
       "      <td>0</td>\n",
       "      <td>0</td>\n",
       "      <td>0</td>\n",
       "      <td>0</td>\n",
       "      <td>1</td>\n",
       "      <td>0</td>\n",
       "      <td>1</td>\n",
       "    </tr>\n",
       "  </tbody>\n",
       "</table>\n",
       "<p>502574 rows × 18 columns</p>\n",
       "</div>"
      ],
      "text/plain": [
       "       Area Code Month of Sourcing  Sourcing Cost  ProductType_NTM1  \\\n",
       "1             A9            Oct-20         134.28                 0   \n",
       "3            A18            Feb-21         107.22                 0   \n",
       "4            A28            Nov-20         197.76                 0   \n",
       "5            A10            Sep-20         137.93                 1   \n",
       "6            A19            Sep-20         105.59                 0   \n",
       "...          ...               ...            ...               ...   \n",
       "550171        A5            Jul-20         136.47                 0   \n",
       "550172       A14            Oct-20          72.56                 0   \n",
       "550173        A5            Mar-21         147.64                 0   \n",
       "550174        A7            Feb-21         150.04                 0   \n",
       "550175        A3            Nov-20         139.42                 1   \n",
       "\n",
       "        ProductType_NTM2  ProductType_NTM3  Manufacturer_X1  Manufacturer_X2  \\\n",
       "1                      1                 0                1                0   \n",
       "3                      0                 1                1                0   \n",
       "4                      1                 0                1                0   \n",
       "5                      0                 0                1                0   \n",
       "6                      1                 0                1                0   \n",
       "...                  ...               ...              ...              ...   \n",
       "550171                 1                 0                1                0   \n",
       "550172                 0                 1                1                0   \n",
       "550173                 1                 0                1                0   \n",
       "550174                 1                 0                1                0   \n",
       "550175                 0                 0                1                0   \n",
       "\n",
       "        Manufacturer_X3  Sourcing Channel_DIRECT  Sourcing Channel_ECOM  \\\n",
       "1                     0                        1                      0   \n",
       "3                     0                        0                      0   \n",
       "4                     0                        1                      0   \n",
       "5                     0                        1                      0   \n",
       "6                     0                        1                      0   \n",
       "...                 ...                      ...                    ...   \n",
       "550171                0                        1                      0   \n",
       "550172                0                        1                      0   \n",
       "550173                0                        1                      0   \n",
       "550174                0                        1                      0   \n",
       "550175                0                        1                      0   \n",
       "\n",
       "        Sourcing Channel_RETAIL  Sourcing Channel_WHOLESALE  \\\n",
       "1                             0                           0   \n",
       "3                             0                           1   \n",
       "4                             0                           0   \n",
       "5                             0                           0   \n",
       "6                             0                           0   \n",
       "...                         ...                         ...   \n",
       "550171                        0                           0   \n",
       "550172                        0                           0   \n",
       "550173                        0                           0   \n",
       "550174                        0                           0   \n",
       "550175                        0                           0   \n",
       "\n",
       "        Product Size_ExtraLarge  Product Size_Large  Product Size_Small  \\\n",
       "1                             0                   1                   0   \n",
       "3                             0                   0                   1   \n",
       "4                             0                   1                   0   \n",
       "5                             0                   1                   0   \n",
       "6                             0                   1                   0   \n",
       "...                         ...                 ...                 ...   \n",
       "550171                        0                   1                   0   \n",
       "550172                        0                   1                   0   \n",
       "550173                        0                   0                   1   \n",
       "550174                        0                   0                   1   \n",
       "550175                        0                   0                   1   \n",
       "\n",
       "        Product Type_Liquid  Product Type_Powder  \n",
       "1                         0                    1  \n",
       "3                         0                    1  \n",
       "4                         1                    0  \n",
       "5                         0                    1  \n",
       "6                         0                    1  \n",
       "...                     ...                  ...  \n",
       "550171                    0                    1  \n",
       "550172                    1                    0  \n",
       "550173                    0                    1  \n",
       "550174                    0                    1  \n",
       "550175                    0                    1  \n",
       "\n",
       "[502574 rows x 18 columns]"
      ]
     },
     "execution_count": 26,
     "metadata": {},
     "output_type": "execute_result"
    }
   ],
   "source": [
    "data_encoded"
   ]
  },
  {
   "cell_type": "code",
   "execution_count": 27,
   "metadata": {},
   "outputs": [],
   "source": [
    "data_encoded_cleaned = pd.get_dummies(cleaned_data_df, columns=['Area Code','ProductType', 'Manufacturer', 'Sourcing Channel','Product Size', 'Product Type'])"
   ]
  },
  {
   "cell_type": "code",
   "execution_count": 28,
   "metadata": {},
   "outputs": [],
   "source": [
    "X_train = data_encoded_cleaned.drop([ 'Month of Sourcing', 'Sourcing Cost'], axis=1)\n",
    "y_train = data_encoded['Sourcing Cost']"
   ]
  },
  {
   "cell_type": "code",
   "execution_count": 29,
   "metadata": {},
   "outputs": [
    {
     "data": {
      "text/html": [
       "<div>\n",
       "<style scoped>\n",
       "    .dataframe tbody tr th:only-of-type {\n",
       "        vertical-align: middle;\n",
       "    }\n",
       "\n",
       "    .dataframe tbody tr th {\n",
       "        vertical-align: top;\n",
       "    }\n",
       "\n",
       "    .dataframe thead th {\n",
       "        text-align: right;\n",
       "    }\n",
       "</style>\n",
       "<table border=\"1\" class=\"dataframe\">\n",
       "  <thead>\n",
       "    <tr style=\"text-align: right;\">\n",
       "      <th></th>\n",
       "      <th>Area Code_A1</th>\n",
       "      <th>Area Code_A10</th>\n",
       "      <th>Area Code_A11</th>\n",
       "      <th>Area Code_A12</th>\n",
       "      <th>Area Code_A13</th>\n",
       "      <th>Area Code_A14</th>\n",
       "      <th>Area Code_A15</th>\n",
       "      <th>Area Code_A16</th>\n",
       "      <th>Area Code_A17</th>\n",
       "      <th>Area Code_A18</th>\n",
       "      <th>...</th>\n",
       "      <th>Manufacturer_X3</th>\n",
       "      <th>Sourcing Channel_DIRECT</th>\n",
       "      <th>Sourcing Channel_ECOM</th>\n",
       "      <th>Sourcing Channel_RETAIL</th>\n",
       "      <th>Sourcing Channel_WHOLESALE</th>\n",
       "      <th>Product Size_ExtraLarge</th>\n",
       "      <th>Product Size_Large</th>\n",
       "      <th>Product Size_Small</th>\n",
       "      <th>Product Type_Liquid</th>\n",
       "      <th>Product Type_Powder</th>\n",
       "    </tr>\n",
       "  </thead>\n",
       "  <tbody>\n",
       "    <tr>\n",
       "      <th>1</th>\n",
       "      <td>0</td>\n",
       "      <td>0</td>\n",
       "      <td>0</td>\n",
       "      <td>0</td>\n",
       "      <td>0</td>\n",
       "      <td>0</td>\n",
       "      <td>0</td>\n",
       "      <td>0</td>\n",
       "      <td>0</td>\n",
       "      <td>0</td>\n",
       "      <td>...</td>\n",
       "      <td>0</td>\n",
       "      <td>1</td>\n",
       "      <td>0</td>\n",
       "      <td>0</td>\n",
       "      <td>0</td>\n",
       "      <td>0</td>\n",
       "      <td>1</td>\n",
       "      <td>0</td>\n",
       "      <td>0</td>\n",
       "      <td>1</td>\n",
       "    </tr>\n",
       "    <tr>\n",
       "      <th>3</th>\n",
       "      <td>0</td>\n",
       "      <td>0</td>\n",
       "      <td>0</td>\n",
       "      <td>0</td>\n",
       "      <td>0</td>\n",
       "      <td>0</td>\n",
       "      <td>0</td>\n",
       "      <td>0</td>\n",
       "      <td>0</td>\n",
       "      <td>1</td>\n",
       "      <td>...</td>\n",
       "      <td>0</td>\n",
       "      <td>0</td>\n",
       "      <td>0</td>\n",
       "      <td>0</td>\n",
       "      <td>1</td>\n",
       "      <td>0</td>\n",
       "      <td>0</td>\n",
       "      <td>1</td>\n",
       "      <td>0</td>\n",
       "      <td>1</td>\n",
       "    </tr>\n",
       "    <tr>\n",
       "      <th>4</th>\n",
       "      <td>0</td>\n",
       "      <td>0</td>\n",
       "      <td>0</td>\n",
       "      <td>0</td>\n",
       "      <td>0</td>\n",
       "      <td>0</td>\n",
       "      <td>0</td>\n",
       "      <td>0</td>\n",
       "      <td>0</td>\n",
       "      <td>0</td>\n",
       "      <td>...</td>\n",
       "      <td>0</td>\n",
       "      <td>1</td>\n",
       "      <td>0</td>\n",
       "      <td>0</td>\n",
       "      <td>0</td>\n",
       "      <td>0</td>\n",
       "      <td>1</td>\n",
       "      <td>0</td>\n",
       "      <td>1</td>\n",
       "      <td>0</td>\n",
       "    </tr>\n",
       "    <tr>\n",
       "      <th>5</th>\n",
       "      <td>0</td>\n",
       "      <td>1</td>\n",
       "      <td>0</td>\n",
       "      <td>0</td>\n",
       "      <td>0</td>\n",
       "      <td>0</td>\n",
       "      <td>0</td>\n",
       "      <td>0</td>\n",
       "      <td>0</td>\n",
       "      <td>0</td>\n",
       "      <td>...</td>\n",
       "      <td>0</td>\n",
       "      <td>1</td>\n",
       "      <td>0</td>\n",
       "      <td>0</td>\n",
       "      <td>0</td>\n",
       "      <td>0</td>\n",
       "      <td>1</td>\n",
       "      <td>0</td>\n",
       "      <td>0</td>\n",
       "      <td>1</td>\n",
       "    </tr>\n",
       "    <tr>\n",
       "      <th>6</th>\n",
       "      <td>0</td>\n",
       "      <td>0</td>\n",
       "      <td>0</td>\n",
       "      <td>0</td>\n",
       "      <td>0</td>\n",
       "      <td>0</td>\n",
       "      <td>0</td>\n",
       "      <td>0</td>\n",
       "      <td>0</td>\n",
       "      <td>0</td>\n",
       "      <td>...</td>\n",
       "      <td>0</td>\n",
       "      <td>1</td>\n",
       "      <td>0</td>\n",
       "      <td>0</td>\n",
       "      <td>0</td>\n",
       "      <td>0</td>\n",
       "      <td>1</td>\n",
       "      <td>0</td>\n",
       "      <td>0</td>\n",
       "      <td>1</td>\n",
       "    </tr>\n",
       "    <tr>\n",
       "      <th>...</th>\n",
       "      <td>...</td>\n",
       "      <td>...</td>\n",
       "      <td>...</td>\n",
       "      <td>...</td>\n",
       "      <td>...</td>\n",
       "      <td>...</td>\n",
       "      <td>...</td>\n",
       "      <td>...</td>\n",
       "      <td>...</td>\n",
       "      <td>...</td>\n",
       "      <td>...</td>\n",
       "      <td>...</td>\n",
       "      <td>...</td>\n",
       "      <td>...</td>\n",
       "      <td>...</td>\n",
       "      <td>...</td>\n",
       "      <td>...</td>\n",
       "      <td>...</td>\n",
       "      <td>...</td>\n",
       "      <td>...</td>\n",
       "      <td>...</td>\n",
       "    </tr>\n",
       "    <tr>\n",
       "      <th>550171</th>\n",
       "      <td>0</td>\n",
       "      <td>0</td>\n",
       "      <td>0</td>\n",
       "      <td>0</td>\n",
       "      <td>0</td>\n",
       "      <td>0</td>\n",
       "      <td>0</td>\n",
       "      <td>0</td>\n",
       "      <td>0</td>\n",
       "      <td>0</td>\n",
       "      <td>...</td>\n",
       "      <td>0</td>\n",
       "      <td>1</td>\n",
       "      <td>0</td>\n",
       "      <td>0</td>\n",
       "      <td>0</td>\n",
       "      <td>0</td>\n",
       "      <td>1</td>\n",
       "      <td>0</td>\n",
       "      <td>0</td>\n",
       "      <td>1</td>\n",
       "    </tr>\n",
       "    <tr>\n",
       "      <th>550172</th>\n",
       "      <td>0</td>\n",
       "      <td>0</td>\n",
       "      <td>0</td>\n",
       "      <td>0</td>\n",
       "      <td>0</td>\n",
       "      <td>1</td>\n",
       "      <td>0</td>\n",
       "      <td>0</td>\n",
       "      <td>0</td>\n",
       "      <td>0</td>\n",
       "      <td>...</td>\n",
       "      <td>0</td>\n",
       "      <td>1</td>\n",
       "      <td>0</td>\n",
       "      <td>0</td>\n",
       "      <td>0</td>\n",
       "      <td>0</td>\n",
       "      <td>1</td>\n",
       "      <td>0</td>\n",
       "      <td>1</td>\n",
       "      <td>0</td>\n",
       "    </tr>\n",
       "    <tr>\n",
       "      <th>550173</th>\n",
       "      <td>0</td>\n",
       "      <td>0</td>\n",
       "      <td>0</td>\n",
       "      <td>0</td>\n",
       "      <td>0</td>\n",
       "      <td>0</td>\n",
       "      <td>0</td>\n",
       "      <td>0</td>\n",
       "      <td>0</td>\n",
       "      <td>0</td>\n",
       "      <td>...</td>\n",
       "      <td>0</td>\n",
       "      <td>1</td>\n",
       "      <td>0</td>\n",
       "      <td>0</td>\n",
       "      <td>0</td>\n",
       "      <td>0</td>\n",
       "      <td>0</td>\n",
       "      <td>1</td>\n",
       "      <td>0</td>\n",
       "      <td>1</td>\n",
       "    </tr>\n",
       "    <tr>\n",
       "      <th>550174</th>\n",
       "      <td>0</td>\n",
       "      <td>0</td>\n",
       "      <td>0</td>\n",
       "      <td>0</td>\n",
       "      <td>0</td>\n",
       "      <td>0</td>\n",
       "      <td>0</td>\n",
       "      <td>0</td>\n",
       "      <td>0</td>\n",
       "      <td>0</td>\n",
       "      <td>...</td>\n",
       "      <td>0</td>\n",
       "      <td>1</td>\n",
       "      <td>0</td>\n",
       "      <td>0</td>\n",
       "      <td>0</td>\n",
       "      <td>0</td>\n",
       "      <td>0</td>\n",
       "      <td>1</td>\n",
       "      <td>0</td>\n",
       "      <td>1</td>\n",
       "    </tr>\n",
       "    <tr>\n",
       "      <th>550175</th>\n",
       "      <td>0</td>\n",
       "      <td>0</td>\n",
       "      <td>0</td>\n",
       "      <td>0</td>\n",
       "      <td>0</td>\n",
       "      <td>0</td>\n",
       "      <td>0</td>\n",
       "      <td>0</td>\n",
       "      <td>0</td>\n",
       "      <td>0</td>\n",
       "      <td>...</td>\n",
       "      <td>0</td>\n",
       "      <td>1</td>\n",
       "      <td>0</td>\n",
       "      <td>0</td>\n",
       "      <td>0</td>\n",
       "      <td>0</td>\n",
       "      <td>0</td>\n",
       "      <td>1</td>\n",
       "      <td>0</td>\n",
       "      <td>1</td>\n",
       "    </tr>\n",
       "  </tbody>\n",
       "</table>\n",
       "<p>502574 rows × 60 columns</p>\n",
       "</div>"
      ],
      "text/plain": [
       "        Area Code_A1  Area Code_A10  Area Code_A11  Area Code_A12  \\\n",
       "1                  0              0              0              0   \n",
       "3                  0              0              0              0   \n",
       "4                  0              0              0              0   \n",
       "5                  0              1              0              0   \n",
       "6                  0              0              0              0   \n",
       "...              ...            ...            ...            ...   \n",
       "550171             0              0              0              0   \n",
       "550172             0              0              0              0   \n",
       "550173             0              0              0              0   \n",
       "550174             0              0              0              0   \n",
       "550175             0              0              0              0   \n",
       "\n",
       "        Area Code_A13  Area Code_A14  Area Code_A15  Area Code_A16  \\\n",
       "1                   0              0              0              0   \n",
       "3                   0              0              0              0   \n",
       "4                   0              0              0              0   \n",
       "5                   0              0              0              0   \n",
       "6                   0              0              0              0   \n",
       "...               ...            ...            ...            ...   \n",
       "550171              0              0              0              0   \n",
       "550172              0              1              0              0   \n",
       "550173              0              0              0              0   \n",
       "550174              0              0              0              0   \n",
       "550175              0              0              0              0   \n",
       "\n",
       "        Area Code_A17  Area Code_A18  ...  Manufacturer_X3  \\\n",
       "1                   0              0  ...                0   \n",
       "3                   0              1  ...                0   \n",
       "4                   0              0  ...                0   \n",
       "5                   0              0  ...                0   \n",
       "6                   0              0  ...                0   \n",
       "...               ...            ...  ...              ...   \n",
       "550171              0              0  ...                0   \n",
       "550172              0              0  ...                0   \n",
       "550173              0              0  ...                0   \n",
       "550174              0              0  ...                0   \n",
       "550175              0              0  ...                0   \n",
       "\n",
       "        Sourcing Channel_DIRECT  Sourcing Channel_ECOM  \\\n",
       "1                             1                      0   \n",
       "3                             0                      0   \n",
       "4                             1                      0   \n",
       "5                             1                      0   \n",
       "6                             1                      0   \n",
       "...                         ...                    ...   \n",
       "550171                        1                      0   \n",
       "550172                        1                      0   \n",
       "550173                        1                      0   \n",
       "550174                        1                      0   \n",
       "550175                        1                      0   \n",
       "\n",
       "        Sourcing Channel_RETAIL  Sourcing Channel_WHOLESALE  \\\n",
       "1                             0                           0   \n",
       "3                             0                           1   \n",
       "4                             0                           0   \n",
       "5                             0                           0   \n",
       "6                             0                           0   \n",
       "...                         ...                         ...   \n",
       "550171                        0                           0   \n",
       "550172                        0                           0   \n",
       "550173                        0                           0   \n",
       "550174                        0                           0   \n",
       "550175                        0                           0   \n",
       "\n",
       "        Product Size_ExtraLarge  Product Size_Large  Product Size_Small  \\\n",
       "1                             0                   1                   0   \n",
       "3                             0                   0                   1   \n",
       "4                             0                   1                   0   \n",
       "5                             0                   1                   0   \n",
       "6                             0                   1                   0   \n",
       "...                         ...                 ...                 ...   \n",
       "550171                        0                   1                   0   \n",
       "550172                        0                   1                   0   \n",
       "550173                        0                   0                   1   \n",
       "550174                        0                   0                   1   \n",
       "550175                        0                   0                   1   \n",
       "\n",
       "        Product Type_Liquid  Product Type_Powder  \n",
       "1                         0                    1  \n",
       "3                         0                    1  \n",
       "4                         1                    0  \n",
       "5                         0                    1  \n",
       "6                         0                    1  \n",
       "...                     ...                  ...  \n",
       "550171                    0                    1  \n",
       "550172                    1                    0  \n",
       "550173                    0                    1  \n",
       "550174                    0                    1  \n",
       "550175                    0                    1  \n",
       "\n",
       "[502574 rows x 60 columns]"
      ]
     },
     "execution_count": 29,
     "metadata": {},
     "output_type": "execute_result"
    }
   ],
   "source": [
    "X_train"
   ]
  },
  {
   "cell_type": "markdown",
   "metadata": {},
   "source": [
    "#### Random Forest for the regression task in this context have been made based on its versatility, robustness, and effectiveness in handling a wide range of datasets, including those with mixed data types and nonlinear relationships between features and target variables"
   ]
  },
  {
   "cell_type": "code",
   "execution_count": 30,
   "metadata": {},
   "outputs": [
    {
     "data": {
      "text/html": [
       "<style>#sk-container-id-1 {color: black;}#sk-container-id-1 pre{padding: 0;}#sk-container-id-1 div.sk-toggleable {background-color: white;}#sk-container-id-1 label.sk-toggleable__label {cursor: pointer;display: block;width: 100%;margin-bottom: 0;padding: 0.3em;box-sizing: border-box;text-align: center;}#sk-container-id-1 label.sk-toggleable__label-arrow:before {content: \"▸\";float: left;margin-right: 0.25em;color: #696969;}#sk-container-id-1 label.sk-toggleable__label-arrow:hover:before {color: black;}#sk-container-id-1 div.sk-estimator:hover label.sk-toggleable__label-arrow:before {color: black;}#sk-container-id-1 div.sk-toggleable__content {max-height: 0;max-width: 0;overflow: hidden;text-align: left;background-color: #f0f8ff;}#sk-container-id-1 div.sk-toggleable__content pre {margin: 0.2em;color: black;border-radius: 0.25em;background-color: #f0f8ff;}#sk-container-id-1 input.sk-toggleable__control:checked~div.sk-toggleable__content {max-height: 200px;max-width: 100%;overflow: auto;}#sk-container-id-1 input.sk-toggleable__control:checked~label.sk-toggleable__label-arrow:before {content: \"▾\";}#sk-container-id-1 div.sk-estimator input.sk-toggleable__control:checked~label.sk-toggleable__label {background-color: #d4ebff;}#sk-container-id-1 div.sk-label input.sk-toggleable__control:checked~label.sk-toggleable__label {background-color: #d4ebff;}#sk-container-id-1 input.sk-hidden--visually {border: 0;clip: rect(1px 1px 1px 1px);clip: rect(1px, 1px, 1px, 1px);height: 1px;margin: -1px;overflow: hidden;padding: 0;position: absolute;width: 1px;}#sk-container-id-1 div.sk-estimator {font-family: monospace;background-color: #f0f8ff;border: 1px dotted black;border-radius: 0.25em;box-sizing: border-box;margin-bottom: 0.5em;}#sk-container-id-1 div.sk-estimator:hover {background-color: #d4ebff;}#sk-container-id-1 div.sk-parallel-item::after {content: \"\";width: 100%;border-bottom: 1px solid gray;flex-grow: 1;}#sk-container-id-1 div.sk-label:hover label.sk-toggleable__label {background-color: #d4ebff;}#sk-container-id-1 div.sk-serial::before {content: \"\";position: absolute;border-left: 1px solid gray;box-sizing: border-box;top: 0;bottom: 0;left: 50%;z-index: 0;}#sk-container-id-1 div.sk-serial {display: flex;flex-direction: column;align-items: center;background-color: white;padding-right: 0.2em;padding-left: 0.2em;position: relative;}#sk-container-id-1 div.sk-item {position: relative;z-index: 1;}#sk-container-id-1 div.sk-parallel {display: flex;align-items: stretch;justify-content: center;background-color: white;position: relative;}#sk-container-id-1 div.sk-item::before, #sk-container-id-1 div.sk-parallel-item::before {content: \"\";position: absolute;border-left: 1px solid gray;box-sizing: border-box;top: 0;bottom: 0;left: 50%;z-index: -1;}#sk-container-id-1 div.sk-parallel-item {display: flex;flex-direction: column;z-index: 1;position: relative;background-color: white;}#sk-container-id-1 div.sk-parallel-item:first-child::after {align-self: flex-end;width: 50%;}#sk-container-id-1 div.sk-parallel-item:last-child::after {align-self: flex-start;width: 50%;}#sk-container-id-1 div.sk-parallel-item:only-child::after {width: 0;}#sk-container-id-1 div.sk-dashed-wrapped {border: 1px dashed gray;margin: 0 0.4em 0.5em 0.4em;box-sizing: border-box;padding-bottom: 0.4em;background-color: white;}#sk-container-id-1 div.sk-label label {font-family: monospace;font-weight: bold;display: inline-block;line-height: 1.2em;}#sk-container-id-1 div.sk-label-container {text-align: center;}#sk-container-id-1 div.sk-container {/* jupyter's `normalize.less` sets `[hidden] { display: none; }` but bootstrap.min.css set `[hidden] { display: none !important; }` so we also need the `!important` here to be able to override the default hidden behavior on the sphinx rendered scikit-learn.org. See: https://github.com/scikit-learn/scikit-learn/issues/21755 */display: inline-block !important;position: relative;}#sk-container-id-1 div.sk-text-repr-fallback {display: none;}</style><div id=\"sk-container-id-1\" class=\"sk-top-container\"><div class=\"sk-text-repr-fallback\"><pre>RandomForestRegressor(random_state=42)</pre><b>In a Jupyter environment, please rerun this cell to show the HTML representation or trust the notebook. <br />On GitHub, the HTML representation is unable to render, please try loading this page with nbviewer.org.</b></div><div class=\"sk-container\" hidden><div class=\"sk-item\"><div class=\"sk-estimator sk-toggleable\"><input class=\"sk-toggleable__control sk-hidden--visually\" id=\"sk-estimator-id-1\" type=\"checkbox\" checked><label for=\"sk-estimator-id-1\" class=\"sk-toggleable__label sk-toggleable__label-arrow\">RandomForestRegressor</label><div class=\"sk-toggleable__content\"><pre>RandomForestRegressor(random_state=42)</pre></div></div></div></div></div>"
      ],
      "text/plain": [
       "RandomForestRegressor(random_state=42)"
      ]
     },
     "execution_count": 30,
     "metadata": {},
     "output_type": "execute_result"
    }
   ],
   "source": [
    "from  sklearn.ensemble import RandomForestRegressor\n",
    "model = RandomForestRegressor(random_state=42)\n",
    "model.fit(X_train, y_train)\n"
   ]
  },
  {
   "cell_type": "code",
   "execution_count": 31,
   "metadata": {},
   "outputs": [],
   "source": [
    "df_test=pd.read_csv('test data.csv')"
   ]
  },
  {
   "cell_type": "code",
   "execution_count": 32,
   "metadata": {},
   "outputs": [],
   "source": [
    "data_encoded_test = pd.get_dummies(df_test, columns=['Area Code','ProductType', 'Manufacturer', 'Sourcing Channel','Product Size', 'Product Type' ])"
   ]
  },
  {
   "cell_type": "code",
   "execution_count": 33,
   "metadata": {},
   "outputs": [],
   "source": [
    "X_test= data_encoded_test.drop([ 'Month of Sourcing', 'Sourcing Cost'], axis=1)\n",
    "y_test = data_encoded_test['Sourcing Cost']"
   ]
  },
  {
   "cell_type": "code",
   "execution_count": 34,
   "metadata": {},
   "outputs": [
    {
     "name": "stdout",
     "output_type": "stream",
     "text": [
      "Mean Absolute Error: 17.413008123197343\n"
     ]
    }
   ],
   "source": [
    "from sklearn.metrics import mean_absolute_error\n",
    "y_pred = model.predict(X_test)\n",
    "mae = mean_absolute_error(y_test, y_pred)\n",
    "print(f'Mean Absolute Error: {mae}')\n"
   ]
  },
  {
   "cell_type": "code",
   "execution_count": 35,
   "metadata": {},
   "outputs": [
    {
     "name": "stdout",
     "output_type": "stream",
     "text": [
      "Mean Squared Error (MSE): 1138.8901941054705\n"
     ]
    }
   ],
   "source": [
    "from sklearn.metrics import mean_squared_error, accuracy_score\n",
    "mse = mean_squared_error(y_test, y_pred)\n",
    "print(\"Mean Squared Error (MSE):\", mse)\n"
   ]
  },
  {
   "cell_type": "code",
   "execution_count": 36,
   "metadata": {},
   "outputs": [
    {
     "name": "stdout",
     "output_type": "stream",
     "text": [
      "r2 score: 0.5802035431596619\n"
     ]
    }
   ],
   "source": [
    "from sklearn.metrics import r2_score\n",
    "r2 = r2_score(y_test, y_pred)\n",
    "print(\"r2 score:\", r2)"
   ]
  },
  {
   "cell_type": "code",
   "execution_count": 37,
   "metadata": {},
   "outputs": [
    {
     "data": {
      "text/plain": [
       "array([103.85217438, 145.60125502, 148.40622283, 142.3886242 ,\n",
       "       162.73494491, 171.4510677 ,  48.78309831,  72.8974325 ,\n",
       "       143.12283685, 139.70840888, 143.64701357, 133.76193549,\n",
       "        94.62689285, 141.02341959, 141.13853917, 153.48325603,\n",
       "       151.74437254, 142.11475128, 142.98904834, 143.972562  ,\n",
       "       146.28998233, 142.75630804, 146.94506986,  40.00016188,\n",
       "        76.89614017,  35.41309207,  80.41057249,  31.26437707,\n",
       "        24.65639067, 195.95155096, 175.87871363, 162.75000609,\n",
       "        58.1832318 ,  26.51144087,  68.90111661, 143.72435041,\n",
       "       156.19325441, 143.15234444, 142.77335269, 106.0997306 ,\n",
       "        58.34419502, 110.7527575 , 171.1782742 , 165.31888731,\n",
       "       103.0686928 ,  39.44125158, 206.32660858, 204.28000181,\n",
       "       102.51358866,  67.45973427,  64.49644204, 143.21683092,\n",
       "        99.70349582,  62.07478686, 180.8410835 , 158.88565532,\n",
       "       170.40841494, 196.12010726, 182.79715442, 140.62099351,\n",
       "       133.94968245, 143.15334816, 143.95443635, 142.6531839 ,\n",
       "       141.48765749, 142.21832746, 142.4074674 , 146.9378456 ,\n",
       "       146.80077441, 148.74528722, 144.41861016, 105.10829648,\n",
       "        80.89545381,  97.20932193,  58.44854673,  60.22476033,\n",
       "        26.60891546, 132.05423889, 109.63928896,  43.64827159,\n",
       "        51.01533606,  56.35186401, 156.10623098, 106.13415591,\n",
       "       108.73211526, 127.49610749,  65.48179594,  40.29025191,\n",
       "        38.06602315,  63.71845113,  56.15870013,  64.63053455,\n",
       "       116.90245398,  97.24004452,  65.84697127,  51.51291942])"
      ]
     },
     "execution_count": 37,
     "metadata": {},
     "output_type": "execute_result"
    }
   ],
   "source": [
    "y_pred"
   ]
  }
 ],
 "metadata": {
  "kernelspec": {
   "display_name": "Python 3",
   "language": "python",
   "name": "python3"
  },
  "language_info": {
   "codemirror_mode": {
    "name": "ipython",
    "version": 3
   },
   "file_extension": ".py",
   "mimetype": "text/x-python",
   "name": "python",
   "nbconvert_exporter": "python",
   "pygments_lexer": "ipython3",
   "version": "3.10.0"
  }
 },
 "nbformat": 4,
 "nbformat_minor": 2
}
